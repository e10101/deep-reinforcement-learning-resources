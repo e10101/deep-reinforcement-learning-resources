{
 "cells": [
  {
   "cell_type": "markdown",
   "metadata": {},
   "source": [
    "# Taxi-v3"
   ]
  },
  {
   "cell_type": "markdown",
   "metadata": {},
   "source": [
    "## About the Environment"
   ]
  },
  {
   "cell_type": "markdown",
   "metadata": {},
   "source": [
    "    MAP:\n",
    "\n",
    "        +---------+\n",
    "        |R: | : :G|\n",
    "        | : | : : |\n",
    "        | : : : : |\n",
    "        | | : | : |\n",
    "        |Y| : |B: |\n",
    "        +---------+"
   ]
  },
  {
   "cell_type": "markdown",
   "metadata": {
    "tags": []
   },
   "source": [
    "    Actions:\n",
    "    There are 6 discrete deterministic actions:\n",
    "    - 0: move south\n",
    "    - 1: move north\n",
    "    - 2: move east\n",
    "    - 3: move west\n",
    "    - 4: pickup passenger\n",
    "    - 5: drop off passenger"
   ]
  },
  {
   "cell_type": "markdown",
   "metadata": {},
   "source": [
    "    Rendering:\n",
    "    - blue: passenger\n",
    "    - magenta: destination\n",
    "    - yellow: empty taxi\n",
    "    - green: full taxi\n",
    "    - other letters (R, G, Y and B): locations for passengers and destinations\n",
    "\n",
    "    state space is represented by:\n",
    "    (taxi_row, taxi_col, passenger_location, destination)\n"
   ]
  },
  {
   "cell_type": "markdown",
   "metadata": {},
   "source": [
    "\n",
    "    **Rewards:**\n",
    "    - -1 per step reward unless other reward is triggered.\n",
    "    - +20 delivering passenger.\n",
    "    - -10  executing \"pickup\" and \"drop-off\" actions illegally.\n"
   ]
  },
  {
   "cell_type": "markdown",
   "metadata": {},
   "source": [
    "    State:\n",
    "    (int(s), r, d, {\"prob\": p})"
   ]
  },
  {
   "cell_type": "code",
   "execution_count": 1,
   "metadata": {},
   "outputs": [],
   "source": [
    "import gym\n",
    "import time\n",
    "import numpy as np\n",
    "\n",
    "from tqdm import tqdm\n",
    "\n",
    "from IPython.display import clear_output"
   ]
  },
  {
   "cell_type": "code",
   "execution_count": 2,
   "metadata": {},
   "outputs": [],
   "source": [
    "env = gym.make('Taxi-v3')"
   ]
  },
  {
   "cell_type": "markdown",
   "metadata": {
    "tags": []
   },
   "source": [
    "## Random Action"
   ]
  },
  {
   "cell_type": "code",
   "execution_count": 3,
   "metadata": {},
   "outputs": [],
   "source": [
    "def play_env(policy=lambda s: env.action_space.sample(), sleep_time=0.1, env_seed=None):\n",
    "    if env_seed is not None:\n",
    "        env.seed(env_seed)\n",
    "        \n",
    "    state = env.reset()\n",
    "    max_steps = env.spec.max_episode_steps\n",
    "    total_reward = 0\n",
    "    is_done = False\n",
    "    current_step = 0\n",
    "\n",
    "    while is_done == False:\n",
    "        # Get a random action\n",
    "        action = policy(state)\n",
    "\n",
    "        state, reward, is_done, info = env.step(action)\n",
    "\n",
    "        total_reward += reward\n",
    "        current_step += 1\n",
    "\n",
    "        clear_output(wait=True)\n",
    "\n",
    "        # Print header\n",
    "        print('Step: {:03d}/{}, Reward: {}\\n'.format(\n",
    "            current_step,\n",
    "            max_steps,\n",
    "            total_reward,\n",
    "        ))\n",
    "        env.render()\n",
    "\n",
    "        time.sleep(sleep_time)\n",
    "        \n",
    "    if current_step < max_steps:\n",
    "        print('\\nResult: Done with {} steps and total reward is {}.'.format(\n",
    "            current_step,\n",
    "            total_reward,\n",
    "        ))\n",
    "    else:\n",
    "        print('\\nResult: Unsolved')"
   ]
  },
  {
   "cell_type": "code",
   "execution_count": 4,
   "metadata": {},
   "outputs": [
    {
     "name": "stdout",
     "output_type": "stream",
     "text": [
      "Step: 200/200, Reward: -767\n",
      "\n",
      "+---------+\n",
      "|R: | : :\u001b[34;1mG\u001b[0m|\n",
      "| : | :\u001b[43m \u001b[0m: |\n",
      "| : : : : |\n",
      "| | : | : |\n",
      "|Y| : |\u001b[35mB\u001b[0m: |\n",
      "+---------+\n",
      "  (Dropoff)\n",
      "\n",
      "Result: Unsolved\n"
     ]
    }
   ],
   "source": [
    "play_env(sleep_time=0.01, env_seed=1)"
   ]
  },
  {
   "cell_type": "markdown",
   "metadata": {},
   "source": [
    "## Q-Learning"
   ]
  },
  {
   "cell_type": "markdown",
   "metadata": {},
   "source": [
    "Credit: https://towardsdatascience.com/reinforcement-learning-teach-a-taxi-cab-to-drive-around-with-q-learning-9913e611028f"
   ]
  },
  {
   "cell_type": "code",
   "execution_count": 5,
   "metadata": {},
   "outputs": [],
   "source": [
    "q_table_shape = [env.observation_space.n, env.action_space.n]\n",
    "learning_rate = 0.1  # Learning rate, i.e. alpha\n",
    "discount_factor = 0.99  # Discount factor, i.e. gamma\n",
    "epsilon = 0.1  # Exploring vs exploiting\n",
    "training_episodes = 100_000\n",
    "# training_episodes = 1000\n",
    "env_seed = 1"
   ]
  },
  {
   "cell_type": "code",
   "execution_count": 6,
   "metadata": {},
   "outputs": [],
   "source": [
    "# Initialize the q-table with zero values\n",
    "q_table = np.zeros(q_table_shape)"
   ]
  },
  {
   "cell_type": "code",
   "execution_count": 7,
   "metadata": {},
   "outputs": [],
   "source": [
    "# Random generator\n",
    "rng = np.random.default_rng()"
   ]
  },
  {
   "cell_type": "markdown",
   "metadata": {},
   "source": [
    "### Train"
   ]
  },
  {
   "cell_type": "code",
   "execution_count": 8,
   "metadata": {
    "tags": []
   },
   "outputs": [
    {
     "name": "stderr",
     "output_type": "stream",
     "text": [
      "100%|██████████| 100000/100000 [00:42<00:00, 2352.33it/s]\n"
     ]
    }
   ],
   "source": [
    "for i in tqdm(range(training_episodes)):\n",
    "    # Reset the environment first\n",
    "    # env.seed(env_seed)\n",
    "    state = env.reset()\n",
    "    \n",
    "    # env.seed(i)\n",
    "    \n",
    "    # print('state', state)\n",
    "    \n",
    "    done = False\n",
    "    \n",
    "    while not done:\n",
    "        if rng.random() < epsilon:\n",
    "            action = env.action_space.sample()  # Explore the action space (with a random action)\n",
    "        else:\n",
    "            action = np.argmax(q_table[state]) # Exploit leared values\n",
    "\n",
    "        # Apply the action and see what happens\n",
    "        next_state, reward, done, info = env.step(action)\n",
    "        # print(i, next_state, reward, done, info)\n",
    "\n",
    "        current_value = q_table[state, action]  # Current Q-value for the state-action pair\n",
    "        next_max = np.max(q_table[next_state])  # Next best Q-value\n",
    "\n",
    "        q_table[state, action] = (1 - learning_rate) * current_value + learning_rate * (reward + discount_factor * next_max)\n",
    "        # print(i, state, action, q_table[state, action])\n",
    "        \n",
    "        state = next_state"
   ]
  },
  {
   "cell_type": "markdown",
   "metadata": {},
   "source": [
    "### Eval"
   ]
  },
  {
   "cell_type": "code",
   "execution_count": 9,
   "metadata": {},
   "outputs": [
    {
     "name": "stdout",
     "output_type": "stream",
     "text": [
      "Step: 013/200, Reward: 8\n",
      "\n",
      "+---------+\n",
      "|R: | : :G|\n",
      "| : | : : |\n",
      "| : : : : |\n",
      "| | : | : |\n",
      "|Y| : |\u001b[35m\u001b[34;1m\u001b[43mB\u001b[0m\u001b[0m\u001b[0m: |\n",
      "+---------+\n",
      "  (Dropoff)\n",
      "\n",
      "Result: Done with 13 steps and total reward is 8.\n"
     ]
    }
   ],
   "source": [
    "play_env(\n",
    "    policy=lambda s: np.argmax(q_table[s]),\n",
    "    sleep_time=0.5,\n",
    "    env_seed=1,\n",
    ")"
   ]
  },
  {
   "cell_type": "code",
   "execution_count": 20,
   "metadata": {},
   "outputs": [
    {
     "name": "stdout",
     "output_type": "stream",
     "text": [
      "Step: 017/200, Reward: 4\n",
      "\n",
      "+---------+\n",
      "|\u001b[35m\u001b[34;1m\u001b[43mR\u001b[0m\u001b[0m\u001b[0m: | : :G|\n",
      "| : | : : |\n",
      "| : : : : |\n",
      "| | : | : |\n",
      "|Y| : |B: |\n",
      "+---------+\n",
      "  (Dropoff)\n",
      "\n",
      "Result: Done with 17 steps and total reward is 4.\n"
     ]
    }
   ],
   "source": [
    "play_env(\n",
    "    policy=lambda s: np.argmax(q_table[s]),\n",
    "    sleep_time=0.5,\n",
    "    env_seed=None,\n",
    ")"
   ]
  }
 ],
 "metadata": {
  "kernelspec": {
   "display_name": "Python 3",
   "language": "python",
   "name": "python3"
  },
  "language_info": {
   "codemirror_mode": {
    "name": "ipython",
    "version": 3
   },
   "file_extension": ".py",
   "mimetype": "text/x-python",
   "name": "python",
   "nbconvert_exporter": "python",
   "pygments_lexer": "ipython3",
   "version": "3.8.10"
  }
 },
 "nbformat": 4,
 "nbformat_minor": 4
}
