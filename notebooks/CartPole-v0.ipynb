{
 "cells": [
  {
   "cell_type": "code",
   "execution_count": 108,
   "metadata": {
    "execution": {
     "iopub.execute_input": "2022-01-06T14:26:06.520604Z",
     "iopub.status.busy": "2022-01-06T14:26:06.520347Z",
     "iopub.status.idle": "2022-01-06T14:26:09.592305Z",
     "shell.execute_reply": "2022-01-06T14:26:09.591583Z",
     "shell.execute_reply.started": "2022-01-06T14:26:06.520576Z"
    },
    "tags": []
   },
   "outputs": [
    {
     "name": "stdout",
     "output_type": "stream",
     "text": [
      "Requirement already satisfied: tf-agents[reverb] in /Users/yisguo/opt/anaconda3/envs/tf-agents/lib/python3.9/site-packages (0.5.0)\n",
      "\u001B[33mWARNING: tf-agents 0.5.0 does not provide the extra 'reverb'\u001B[0m\n",
      "Requirement already satisfied: six>=1.10.0 in /Users/yisguo/opt/anaconda3/envs/tf-agents/lib/python3.9/site-packages (from tf-agents[reverb]) (1.16.0)\n",
      "Requirement already satisfied: protobuf>=3.11.3 in /Users/yisguo/opt/anaconda3/envs/tf-agents/lib/python3.9/site-packages (from tf-agents[reverb]) (3.17.3)\n",
      "Requirement already satisfied: gin-config==0.1.3 in /Users/yisguo/opt/anaconda3/envs/tf-agents/lib/python3.9/site-packages (from tf-agents[reverb]) (0.1.3)\n",
      "Requirement already satisfied: numpy>=1.13.3 in /Users/yisguo/opt/anaconda3/envs/tf-agents/lib/python3.9/site-packages (from tf-agents[reverb]) (1.19.5)\n",
      "Requirement already satisfied: tensorflow-probability>=0.9.0 in /Users/yisguo/opt/anaconda3/envs/tf-agents/lib/python3.9/site-packages (from tf-agents[reverb]) (0.13.0)\n",
      "Requirement already satisfied: absl-py>=0.6.1 in /Users/yisguo/opt/anaconda3/envs/tf-agents/lib/python3.9/site-packages (from tf-agents[reverb]) (0.13.0)\n",
      "Requirement already satisfied: gast>=0.3.2 in /Users/yisguo/opt/anaconda3/envs/tf-agents/lib/python3.9/site-packages (from tensorflow-probability>=0.9.0->tf-agents[reverb]) (0.4.0)\n",
      "Requirement already satisfied: cloudpickle>=1.3 in /Users/yisguo/opt/anaconda3/envs/tf-agents/lib/python3.9/site-packages (from tensorflow-probability>=0.9.0->tf-agents[reverb]) (1.6.0)\n",
      "Requirement already satisfied: dm-tree in /Users/yisguo/opt/anaconda3/envs/tf-agents/lib/python3.9/site-packages (from tensorflow-probability>=0.9.0->tf-agents[reverb]) (0.1.6)\n",
      "Requirement already satisfied: decorator in /Users/yisguo/opt/anaconda3/envs/tf-agents/lib/python3.9/site-packages (from tensorflow-probability>=0.9.0->tf-agents[reverb]) (5.0.9)\n",
      "Requirement already satisfied: pyglet in /Users/yisguo/opt/anaconda3/envs/tf-agents/lib/python3.9/site-packages (1.5.21)\n",
      "Looking in indexes: https://pypi.tuna.tsinghua.edu.cn/simple\n",
      "Requirement already satisfied: pyvirtualdisplay in /Users/yisguo/opt/anaconda3/envs/tf-agents/lib/python3.9/site-packages (2.2)\n",
      "Requirement already satisfied: EasyProcess in /Users/yisguo/opt/anaconda3/envs/tf-agents/lib/python3.9/site-packages (from pyvirtualdisplay) (0.3)\n"
     ]
    }
   ],
   "source": [
    "!pip install 'tf-agents[reverb]'\n",
    "!pip install pyglet\n",
    "!pip install pyvirtualdisplay -i https://pypi.tuna.tsinghua.edu.cn/simple"
   ]
  },
  {
   "cell_type": "code",
   "execution_count": 110,
   "metadata": {
    "execution": {
     "iopub.execute_input": "2022-01-06T14:30:58.223699Z",
     "iopub.status.busy": "2022-01-06T14:30:58.223427Z",
     "iopub.status.idle": "2022-01-06T14:30:58.227951Z",
     "shell.execute_reply": "2022-01-06T14:30:58.227161Z",
     "shell.execute_reply.started": "2022-01-06T14:30:58.223673Z"
    },
    "tags": []
   },
   "outputs": [],
   "source": [
    "from tf_agents.environments import suite_gym, tf_py_environment\n",
    "from tf_agents.networks import sequential\n",
    "from tf_agents.specs import tensor_spec\n",
    "from tf_agents.utils import common\n",
    "from tf_agents.agents.dqn import dqn_agent\n",
    "from tf_agents.policies import random_tf_policy\n",
    "\n",
    "# import reverb\n",
    "\n",
    "import tensorflow as tf\n",
    "\n",
    "import PIL\n",
    "# import pyvirtualdisplay\n",
    "import numpy as np"
   ]
  },
  {
   "cell_type": "code",
   "execution_count": null,
   "metadata": {
    "collapsed": false,
    "jupyter": {
     "outputs_hidden": false
    },
    "pycharm": {
     "name": "#%%\n"
    }
   },
   "outputs": [],
   "source": [
    "# display = pyvirtualdisplay.Display(visible=0, size=(1400, 900)).start()\n"
   ]
  },
  {
   "cell_type": "code",
   "execution_count": 89,
   "metadata": {
    "execution": {
     "iopub.execute_input": "2022-01-06T13:33:21.934238Z",
     "iopub.status.busy": "2022-01-06T13:33:21.934014Z",
     "iopub.status.idle": "2022-01-06T13:33:21.937458Z",
     "shell.execute_reply": "2022-01-06T13:33:21.936455Z",
     "shell.execute_reply.started": "2022-01-06T13:33:21.934214Z"
    },
    "tags": []
   },
   "outputs": [],
   "source": [
    "learning_rate=1e-3\n",
    "num_eval_episodes=100"
   ]
  },
  {
   "cell_type": "markdown",
   "metadata": {
    "execution": {
     "iopub.execute_input": "2022-01-06T13:05:24.855352Z",
     "iopub.status.busy": "2022-01-06T13:05:24.854964Z",
     "iopub.status.idle": "2022-01-06T13:05:24.868689Z",
     "shell.execute_reply": "2022-01-06T13:05:24.867323Z",
     "shell.execute_reply.started": "2022-01-06T13:05:24.855313Z"
    }
   },
   "source": [
    "## Environment"
   ]
  },
  {
   "cell_type": "code",
   "execution_count": null,
   "metadata": {
    "tags": []
   },
   "outputs": [],
   "source": [
    "env_name = 'CartPole-v0'\n",
    "env = suite_gym.load(env_name)"
   ]
  },
  {
   "cell_type": "code",
   "execution_count": null,
   "metadata": {
    "tags": []
   },
   "outputs": [],
   "source": [
    "env.reset()"
   ]
  },
  {
   "cell_type": "code",
   "execution_count": null,
   "metadata": {
    "tags": []
   },
   "outputs": [],
   "source": [
    "frame = env.render(mode='rgb_array')"
   ]
  },
  {
   "cell_type": "code",
   "execution_count": null,
   "metadata": {
    "tags": []
   },
   "outputs": [],
   "source": [
    "PIL.Image.fromarray(frame)"
   ]
  },
  {
   "cell_type": "code",
   "execution_count": null,
   "metadata": {},
   "outputs": [],
   "source": [
    "print('Time Step Spec:')\n",
    "print(env.time_step_spec())"
   ]
  },
  {
   "cell_type": "code",
   "execution_count": null,
   "metadata": {
    "collapsed": false,
    "jupyter": {
     "outputs_hidden": false
    },
    "pycharm": {
     "name": "#%%\n"
    }
   },
   "outputs": [],
   "source": [
    "print('Action Spec:')\n",
    "print(env.action_spec())"
   ]
  },
  {
   "cell_type": "code",
   "execution_count": null,
   "metadata": {
    "collapsed": false,
    "jupyter": {
     "outputs_hidden": false
    },
    "pycharm": {
     "name": "#%%\n"
    }
   },
   "outputs": [],
   "source": [
    "time_step = env.reset()\n",
    "time_step\n"
   ]
  },
  {
   "cell_type": "code",
   "execution_count": null,
   "metadata": {
    "collapsed": false,
    "jupyter": {
     "outputs_hidden": false
    },
    "pycharm": {
     "name": "#%%\n"
    }
   },
   "outputs": [],
   "source": [
    "action = np.array(1, dtype=np.int32)\n",
    "\n",
    "next_time_step = env.step(action)\n",
    "next_time_step"
   ]
  },
  {
   "cell_type": "code",
   "execution_count": null,
   "metadata": {
    "collapsed": false,
    "jupyter": {
     "outputs_hidden": false
    },
    "pycharm": {
     "name": "#%%\n"
    },
    "tags": []
   },
   "outputs": [],
   "source": [
    "train_py_env = suite_gym.load(env_name)\n",
    "eval_py_env = suite_gym.load(env_name)\n",
    "\n",
    "train_env = tf_py_environment.TFPyEnvironment(train_py_env)\n",
    "eval_env = tf_py_environment.TFPyEnvironment(eval_py_env)"
   ]
  },
  {
   "cell_type": "markdown",
   "metadata": {
    "jupyter": {
     "outputs_hidden": false
    },
    "pycharm": {
     "name": "#%%\n"
    },
    "tags": []
   },
   "source": [
    "## Agent"
   ]
  },
  {
   "cell_type": "code",
   "execution_count": null,
   "metadata": {
    "tags": []
   },
   "outputs": [],
   "source": [
    "fc_layer_params = (100, 50)\n",
    "action_tensor_spec = tensor_spec.from_spec(env.action_spec())\n",
    "num_actions = action_tensor_spec.maximum - action_tensor_spec.minimum + 1"
   ]
  },
  {
   "cell_type": "code",
   "execution_count": null,
   "metadata": {
    "tags": []
   },
   "outputs": [],
   "source": [
    "def dense_layer(num_units):\n",
    "    return tf.keras.layers.Dense(\n",
    "        num_units,\n",
    "        activation=tf.keras.activations.relu,\n",
    "        kernel_initializer=tf.keras.initializers.VarianceScaling(\n",
    "            scale=2.0, mode='fan_in', distribution='truncated_normal'))"
   ]
  },
  {
   "cell_type": "code",
   "execution_count": null,
   "metadata": {
    "tags": []
   },
   "outputs": [],
   "source": [
    "dense_layers = [dense_layer(num_units) for num_units in fc_layer_params]"
   ]
  },
  {
   "cell_type": "code",
   "execution_count": null,
   "metadata": {
    "tags": []
   },
   "outputs": [],
   "source": [
    "q_values_layer = tf.keras.layers.Dense(\n",
    "    num_actions,\n",
    "    activation=None,\n",
    "    kernel_initializer=tf.keras.initializers.RandomUniform(\n",
    "        minval=-0.03, maxval=0.03),\n",
    "    bias_initializer=tf.keras.initializers.Constant(-0.2))"
   ]
  },
  {
   "cell_type": "code",
   "execution_count": null,
   "metadata": {
    "tags": []
   },
   "outputs": [],
   "source": [
    "q_net = sequential.Sequential(dense_layers + [q_values_layer])"
   ]
  },
  {
   "cell_type": "code",
   "execution_count": null,
   "metadata": {
    "tags": []
   },
   "outputs": [],
   "source": [
    "optimizer = tf.keras.optimizers.Adam(learning_rate=learning_rate)"
   ]
  },
  {
   "cell_type": "code",
   "execution_count": null,
   "metadata": {
    "tags": []
   },
   "outputs": [],
   "source": [
    "train_step_counter = tf.Variable(0)\n",
    "\n",
    "agent = dqn_agent.DqnAgent(\n",
    "    train_env.time_step_spec(),\n",
    "    train_env.action_spec(),\n",
    "    q_network=q_net,\n",
    "    optimizer=optimizer,\n",
    "    td_errors_loss_fn=common.element_wise_squared_loss,\n",
    "    train_step_counter=train_step_counter)\n",
    "\n",
    "agent.initialize()"
   ]
  },
  {
   "cell_type": "markdown",
   "metadata": {},
   "source": [
    "## Policy"
   ]
  },
  {
   "cell_type": "code",
   "execution_count": null,
   "metadata": {},
   "outputs": [],
   "source": [
    "eval_policy = agent.policy\n",
    "collect_policy = agent.collect_policy"
   ]
  },
  {
   "cell_type": "markdown",
   "metadata": {
    "execution": {
     "iopub.execute_input": "2022-01-06T13:22:08.974391Z",
     "iopub.status.busy": "2022-01-06T13:22:08.974128Z",
     "iopub.status.idle": "2022-01-06T13:22:08.977599Z",
     "shell.execute_reply": "2022-01-06T13:22:08.976699Z",
     "shell.execute_reply.started": "2022-01-06T13:22:08.974367Z"
    }
   },
   "source": [
    "### Random Policy Example"
   ]
  },
  {
   "cell_type": "code",
   "execution_count": null,
   "metadata": {
    "tags": []
   },
   "outputs": [],
   "source": [
    "random_policy = random_tf_policy.RandomTFPolicy(train_env.time_step_spec(),\n",
    "                                                train_env.action_spec())"
   ]
  },
  {
   "cell_type": "code",
   "execution_count": null,
   "metadata": {},
   "outputs": [],
   "source": [
    "example_environment = tf_py_environment.TFPyEnvironment(\n",
    "    suite_gym.load('CartPole-v0'))"
   ]
  },
  {
   "cell_type": "code",
   "execution_count": null,
   "metadata": {
    "tags": []
   },
   "outputs": [],
   "source": [
    "time_step = example_environment.reset()"
   ]
  },
  {
   "cell_type": "code",
   "execution_count": 83,
   "metadata": {
    "collapsed": true,
    "execution": {
     "iopub.execute_input": "2022-01-06T13:30:02.362979Z",
     "iopub.status.busy": "2022-01-06T13:30:02.362721Z",
     "iopub.status.idle": "2022-01-06T13:30:02.607303Z",
     "shell.execute_reply": "2022-01-06T13:30:02.606777Z",
     "shell.execute_reply.started": "2022-01-06T13:30:02.362950Z"
    },
    "jupyter": {
     "outputs_hidden": true
    },
    "tags": []
   },
   "outputs": [
    {
     "name": "stdout",
     "output_type": "stream",
     "text": [
      "tf.Tensor([False], shape=(1,), dtype=bool) tf.Tensor([1.], shape=(1,), dtype=float32) PolicyStep(action=<tf.Tensor: shape=(1,), dtype=int64, numpy=array([0])>, state=(), info=())\n",
      "tf.Tensor([False], shape=(1,), dtype=bool) tf.Tensor([1.], shape=(1,), dtype=float32) PolicyStep(action=<tf.Tensor: shape=(1,), dtype=int64, numpy=array([0])>, state=(), info=())\n",
      "tf.Tensor([False], shape=(1,), dtype=bool) tf.Tensor([1.], shape=(1,), dtype=float32) PolicyStep(action=<tf.Tensor: shape=(1,), dtype=int64, numpy=array([1])>, state=(), info=())\n",
      "tf.Tensor([False], shape=(1,), dtype=bool) tf.Tensor([1.], shape=(1,), dtype=float32) PolicyStep(action=<tf.Tensor: shape=(1,), dtype=int64, numpy=array([0])>, state=(), info=())\n",
      "tf.Tensor([False], shape=(1,), dtype=bool) tf.Tensor([1.], shape=(1,), dtype=float32) PolicyStep(action=<tf.Tensor: shape=(1,), dtype=int64, numpy=array([0])>, state=(), info=())\n",
      "tf.Tensor([False], shape=(1,), dtype=bool) tf.Tensor([1.], shape=(1,), dtype=float32) PolicyStep(action=<tf.Tensor: shape=(1,), dtype=int64, numpy=array([1])>, state=(), info=())\n",
      "tf.Tensor([False], shape=(1,), dtype=bool) tf.Tensor([1.], shape=(1,), dtype=float32) PolicyStep(action=<tf.Tensor: shape=(1,), dtype=int64, numpy=array([0])>, state=(), info=())\n",
      "tf.Tensor([False], shape=(1,), dtype=bool) tf.Tensor([1.], shape=(1,), dtype=float32) PolicyStep(action=<tf.Tensor: shape=(1,), dtype=int64, numpy=array([1])>, state=(), info=())\n",
      "tf.Tensor([False], shape=(1,), dtype=bool) tf.Tensor([1.], shape=(1,), dtype=float32) PolicyStep(action=<tf.Tensor: shape=(1,), dtype=int64, numpy=array([0])>, state=(), info=())\n",
      "tf.Tensor([False], shape=(1,), dtype=bool) tf.Tensor([1.], shape=(1,), dtype=float32) PolicyStep(action=<tf.Tensor: shape=(1,), dtype=int64, numpy=array([1])>, state=(), info=())\n",
      "tf.Tensor([False], shape=(1,), dtype=bool) tf.Tensor([1.], shape=(1,), dtype=float32) PolicyStep(action=<tf.Tensor: shape=(1,), dtype=int64, numpy=array([1])>, state=(), info=())\n",
      "tf.Tensor([False], shape=(1,), dtype=bool) tf.Tensor([1.], shape=(1,), dtype=float32) PolicyStep(action=<tf.Tensor: shape=(1,), dtype=int64, numpy=array([1])>, state=(), info=())\n",
      "tf.Tensor([False], shape=(1,), dtype=bool) tf.Tensor([1.], shape=(1,), dtype=float32) PolicyStep(action=<tf.Tensor: shape=(1,), dtype=int64, numpy=array([1])>, state=(), info=())\n",
      "tf.Tensor([False], shape=(1,), dtype=bool) tf.Tensor([1.], shape=(1,), dtype=float32) PolicyStep(action=<tf.Tensor: shape=(1,), dtype=int64, numpy=array([1])>, state=(), info=())\n",
      "tf.Tensor([False], shape=(1,), dtype=bool) tf.Tensor([1.], shape=(1,), dtype=float32) PolicyStep(action=<tf.Tensor: shape=(1,), dtype=int64, numpy=array([1])>, state=(), info=())\n",
      "tf.Tensor([False], shape=(1,), dtype=bool) tf.Tensor([1.], shape=(1,), dtype=float32) PolicyStep(action=<tf.Tensor: shape=(1,), dtype=int64, numpy=array([0])>, state=(), info=())\n",
      "tf.Tensor([False], shape=(1,), dtype=bool) tf.Tensor([1.], shape=(1,), dtype=float32) PolicyStep(action=<tf.Tensor: shape=(1,), dtype=int64, numpy=array([0])>, state=(), info=())\n",
      "tf.Tensor([False], shape=(1,), dtype=bool) tf.Tensor([1.], shape=(1,), dtype=float32) PolicyStep(action=<tf.Tensor: shape=(1,), dtype=int64, numpy=array([0])>, state=(), info=())\n",
      "tf.Tensor([ True], shape=(1,), dtype=bool) tf.Tensor([1.], shape=(1,), dtype=float32) PolicyStep(action=<tf.Tensor: shape=(1,), dtype=int64, numpy=array([1])>, state=(), info=())\n",
      "tf.Tensor([False], shape=(1,), dtype=bool) tf.Tensor([0.], shape=(1,), dtype=float32) PolicyStep(action=<tf.Tensor: shape=(1,), dtype=int64, numpy=array([1])>, state=(), info=())\n",
      "tf.Tensor([False], shape=(1,), dtype=bool) tf.Tensor([1.], shape=(1,), dtype=float32) PolicyStep(action=<tf.Tensor: shape=(1,), dtype=int64, numpy=array([1])>, state=(), info=())\n",
      "tf.Tensor([False], shape=(1,), dtype=bool) tf.Tensor([1.], shape=(1,), dtype=float32) PolicyStep(action=<tf.Tensor: shape=(1,), dtype=int64, numpy=array([0])>, state=(), info=())\n",
      "tf.Tensor([False], shape=(1,), dtype=bool) tf.Tensor([1.], shape=(1,), dtype=float32) PolicyStep(action=<tf.Tensor: shape=(1,), dtype=int64, numpy=array([1])>, state=(), info=())\n",
      "tf.Tensor([False], shape=(1,), dtype=bool) tf.Tensor([1.], shape=(1,), dtype=float32) PolicyStep(action=<tf.Tensor: shape=(1,), dtype=int64, numpy=array([0])>, state=(), info=())\n",
      "tf.Tensor([False], shape=(1,), dtype=bool) tf.Tensor([1.], shape=(1,), dtype=float32) PolicyStep(action=<tf.Tensor: shape=(1,), dtype=int64, numpy=array([0])>, state=(), info=())\n",
      "tf.Tensor([False], shape=(1,), dtype=bool) tf.Tensor([1.], shape=(1,), dtype=float32) PolicyStep(action=<tf.Tensor: shape=(1,), dtype=int64, numpy=array([0])>, state=(), info=())\n",
      "tf.Tensor([False], shape=(1,), dtype=bool) tf.Tensor([1.], shape=(1,), dtype=float32) PolicyStep(action=<tf.Tensor: shape=(1,), dtype=int64, numpy=array([1])>, state=(), info=())\n",
      "tf.Tensor([False], shape=(1,), dtype=bool) tf.Tensor([1.], shape=(1,), dtype=float32) PolicyStep(action=<tf.Tensor: shape=(1,), dtype=int64, numpy=array([0])>, state=(), info=())\n",
      "tf.Tensor([False], shape=(1,), dtype=bool) tf.Tensor([1.], shape=(1,), dtype=float32) PolicyStep(action=<tf.Tensor: shape=(1,), dtype=int64, numpy=array([0])>, state=(), info=())\n",
      "tf.Tensor([False], shape=(1,), dtype=bool) tf.Tensor([1.], shape=(1,), dtype=float32) PolicyStep(action=<tf.Tensor: shape=(1,), dtype=int64, numpy=array([1])>, state=(), info=())\n",
      "tf.Tensor([False], shape=(1,), dtype=bool) tf.Tensor([1.], shape=(1,), dtype=float32) PolicyStep(action=<tf.Tensor: shape=(1,), dtype=int64, numpy=array([1])>, state=(), info=())\n",
      "tf.Tensor([False], shape=(1,), dtype=bool) tf.Tensor([1.], shape=(1,), dtype=float32) PolicyStep(action=<tf.Tensor: shape=(1,), dtype=int64, numpy=array([1])>, state=(), info=())\n",
      "tf.Tensor([False], shape=(1,), dtype=bool) tf.Tensor([1.], shape=(1,), dtype=float32) PolicyStep(action=<tf.Tensor: shape=(1,), dtype=int64, numpy=array([1])>, state=(), info=())\n",
      "tf.Tensor([False], shape=(1,), dtype=bool) tf.Tensor([1.], shape=(1,), dtype=float32) PolicyStep(action=<tf.Tensor: shape=(1,), dtype=int64, numpy=array([0])>, state=(), info=())\n",
      "tf.Tensor([False], shape=(1,), dtype=bool) tf.Tensor([1.], shape=(1,), dtype=float32) PolicyStep(action=<tf.Tensor: shape=(1,), dtype=int64, numpy=array([0])>, state=(), info=())\n",
      "tf.Tensor([False], shape=(1,), dtype=bool) tf.Tensor([1.], shape=(1,), dtype=float32) PolicyStep(action=<tf.Tensor: shape=(1,), dtype=int64, numpy=array([0])>, state=(), info=())\n",
      "tf.Tensor([False], shape=(1,), dtype=bool) tf.Tensor([1.], shape=(1,), dtype=float32) PolicyStep(action=<tf.Tensor: shape=(1,), dtype=int64, numpy=array([1])>, state=(), info=())\n",
      "tf.Tensor([False], shape=(1,), dtype=bool) tf.Tensor([1.], shape=(1,), dtype=float32) PolicyStep(action=<tf.Tensor: shape=(1,), dtype=int64, numpy=array([0])>, state=(), info=())\n",
      "tf.Tensor([False], shape=(1,), dtype=bool) tf.Tensor([1.], shape=(1,), dtype=float32) PolicyStep(action=<tf.Tensor: shape=(1,), dtype=int64, numpy=array([1])>, state=(), info=())\n",
      "tf.Tensor([False], shape=(1,), dtype=bool) tf.Tensor([1.], shape=(1,), dtype=float32) PolicyStep(action=<tf.Tensor: shape=(1,), dtype=int64, numpy=array([0])>, state=(), info=())\n",
      "tf.Tensor([False], shape=(1,), dtype=bool) tf.Tensor([1.], shape=(1,), dtype=float32) PolicyStep(action=<tf.Tensor: shape=(1,), dtype=int64, numpy=array([0])>, state=(), info=())\n",
      "tf.Tensor([False], shape=(1,), dtype=bool) tf.Tensor([1.], shape=(1,), dtype=float32) PolicyStep(action=<tf.Tensor: shape=(1,), dtype=int64, numpy=array([0])>, state=(), info=())\n",
      "tf.Tensor([False], shape=(1,), dtype=bool) tf.Tensor([1.], shape=(1,), dtype=float32) PolicyStep(action=<tf.Tensor: shape=(1,), dtype=int64, numpy=array([0])>, state=(), info=())\n",
      "tf.Tensor([False], shape=(1,), dtype=bool) tf.Tensor([1.], shape=(1,), dtype=float32) PolicyStep(action=<tf.Tensor: shape=(1,), dtype=int64, numpy=array([1])>, state=(), info=())\n",
      "tf.Tensor([ True], shape=(1,), dtype=bool) tf.Tensor([1.], shape=(1,), dtype=float32) PolicyStep(action=<tf.Tensor: shape=(1,), dtype=int64, numpy=array([1])>, state=(), info=())\n",
      "tf.Tensor([False], shape=(1,), dtype=bool) tf.Tensor([0.], shape=(1,), dtype=float32) PolicyStep(action=<tf.Tensor: shape=(1,), dtype=int64, numpy=array([0])>, state=(), info=())\n",
      "tf.Tensor([False], shape=(1,), dtype=bool) tf.Tensor([1.], shape=(1,), dtype=float32) PolicyStep(action=<tf.Tensor: shape=(1,), dtype=int64, numpy=array([1])>, state=(), info=())\n",
      "tf.Tensor([False], shape=(1,), dtype=bool) tf.Tensor([1.], shape=(1,), dtype=float32) PolicyStep(action=<tf.Tensor: shape=(1,), dtype=int64, numpy=array([1])>, state=(), info=())\n",
      "tf.Tensor([False], shape=(1,), dtype=bool) tf.Tensor([1.], shape=(1,), dtype=float32) PolicyStep(action=<tf.Tensor: shape=(1,), dtype=int64, numpy=array([1])>, state=(), info=())\n",
      "tf.Tensor([False], shape=(1,), dtype=bool) tf.Tensor([1.], shape=(1,), dtype=float32) PolicyStep(action=<tf.Tensor: shape=(1,), dtype=int64, numpy=array([0])>, state=(), info=())\n",
      "tf.Tensor([False], shape=(1,), dtype=bool) tf.Tensor([1.], shape=(1,), dtype=float32) PolicyStep(action=<tf.Tensor: shape=(1,), dtype=int64, numpy=array([1])>, state=(), info=())\n",
      "tf.Tensor([False], shape=(1,), dtype=bool) tf.Tensor([1.], shape=(1,), dtype=float32) PolicyStep(action=<tf.Tensor: shape=(1,), dtype=int64, numpy=array([0])>, state=(), info=())\n",
      "tf.Tensor([False], shape=(1,), dtype=bool) tf.Tensor([1.], shape=(1,), dtype=float32) PolicyStep(action=<tf.Tensor: shape=(1,), dtype=int64, numpy=array([1])>, state=(), info=())\n",
      "tf.Tensor([False], shape=(1,), dtype=bool) tf.Tensor([1.], shape=(1,), dtype=float32) PolicyStep(action=<tf.Tensor: shape=(1,), dtype=int64, numpy=array([0])>, state=(), info=())\n",
      "tf.Tensor([False], shape=(1,), dtype=bool) tf.Tensor([1.], shape=(1,), dtype=float32) PolicyStep(action=<tf.Tensor: shape=(1,), dtype=int64, numpy=array([0])>, state=(), info=())\n",
      "tf.Tensor([False], shape=(1,), dtype=bool) tf.Tensor([1.], shape=(1,), dtype=float32) PolicyStep(action=<tf.Tensor: shape=(1,), dtype=int64, numpy=array([1])>, state=(), info=())\n",
      "tf.Tensor([False], shape=(1,), dtype=bool) tf.Tensor([1.], shape=(1,), dtype=float32) PolicyStep(action=<tf.Tensor: shape=(1,), dtype=int64, numpy=array([1])>, state=(), info=())\n",
      "tf.Tensor([False], shape=(1,), dtype=bool) tf.Tensor([1.], shape=(1,), dtype=float32) PolicyStep(action=<tf.Tensor: shape=(1,), dtype=int64, numpy=array([1])>, state=(), info=())\n",
      "tf.Tensor([ True], shape=(1,), dtype=bool) tf.Tensor([1.], shape=(1,), dtype=float32) PolicyStep(action=<tf.Tensor: shape=(1,), dtype=int64, numpy=array([1])>, state=(), info=())\n",
      "tf.Tensor([False], shape=(1,), dtype=bool) tf.Tensor([0.], shape=(1,), dtype=float32) PolicyStep(action=<tf.Tensor: shape=(1,), dtype=int64, numpy=array([1])>, state=(), info=())\n",
      "tf.Tensor([False], shape=(1,), dtype=bool) tf.Tensor([1.], shape=(1,), dtype=float32) PolicyStep(action=<tf.Tensor: shape=(1,), dtype=int64, numpy=array([1])>, state=(), info=())\n",
      "tf.Tensor([False], shape=(1,), dtype=bool) tf.Tensor([1.], shape=(1,), dtype=float32) PolicyStep(action=<tf.Tensor: shape=(1,), dtype=int64, numpy=array([0])>, state=(), info=())\n",
      "tf.Tensor([False], shape=(1,), dtype=bool) tf.Tensor([1.], shape=(1,), dtype=float32) PolicyStep(action=<tf.Tensor: shape=(1,), dtype=int64, numpy=array([1])>, state=(), info=())\n",
      "tf.Tensor([False], shape=(1,), dtype=bool) tf.Tensor([1.], shape=(1,), dtype=float32) PolicyStep(action=<tf.Tensor: shape=(1,), dtype=int64, numpy=array([1])>, state=(), info=())\n",
      "tf.Tensor([False], shape=(1,), dtype=bool) tf.Tensor([1.], shape=(1,), dtype=float32) PolicyStep(action=<tf.Tensor: shape=(1,), dtype=int64, numpy=array([1])>, state=(), info=())\n",
      "tf.Tensor([False], shape=(1,), dtype=bool) tf.Tensor([1.], shape=(1,), dtype=float32) PolicyStep(action=<tf.Tensor: shape=(1,), dtype=int64, numpy=array([0])>, state=(), info=())\n",
      "tf.Tensor([False], shape=(1,), dtype=bool) tf.Tensor([1.], shape=(1,), dtype=float32) PolicyStep(action=<tf.Tensor: shape=(1,), dtype=int64, numpy=array([1])>, state=(), info=())\n",
      "tf.Tensor([False], shape=(1,), dtype=bool) tf.Tensor([1.], shape=(1,), dtype=float32) PolicyStep(action=<tf.Tensor: shape=(1,), dtype=int64, numpy=array([0])>, state=(), info=())\n",
      "tf.Tensor([False], shape=(1,), dtype=bool) tf.Tensor([1.], shape=(1,), dtype=float32) PolicyStep(action=<tf.Tensor: shape=(1,), dtype=int64, numpy=array([1])>, state=(), info=())\n",
      "tf.Tensor([False], shape=(1,), dtype=bool) tf.Tensor([1.], shape=(1,), dtype=float32) PolicyStep(action=<tf.Tensor: shape=(1,), dtype=int64, numpy=array([0])>, state=(), info=())\n",
      "tf.Tensor([False], shape=(1,), dtype=bool) tf.Tensor([1.], shape=(1,), dtype=float32) PolicyStep(action=<tf.Tensor: shape=(1,), dtype=int64, numpy=array([1])>, state=(), info=())\n",
      "tf.Tensor([False], shape=(1,), dtype=bool) tf.Tensor([1.], shape=(1,), dtype=float32) PolicyStep(action=<tf.Tensor: shape=(1,), dtype=int64, numpy=array([0])>, state=(), info=())\n",
      "tf.Tensor([False], shape=(1,), dtype=bool) tf.Tensor([1.], shape=(1,), dtype=float32) PolicyStep(action=<tf.Tensor: shape=(1,), dtype=int64, numpy=array([0])>, state=(), info=())\n",
      "tf.Tensor([False], shape=(1,), dtype=bool) tf.Tensor([1.], shape=(1,), dtype=float32) PolicyStep(action=<tf.Tensor: shape=(1,), dtype=int64, numpy=array([1])>, state=(), info=())\n",
      "tf.Tensor([False], shape=(1,), dtype=bool) tf.Tensor([1.], shape=(1,), dtype=float32) PolicyStep(action=<tf.Tensor: shape=(1,), dtype=int64, numpy=array([0])>, state=(), info=())\n",
      "tf.Tensor([False], shape=(1,), dtype=bool) tf.Tensor([1.], shape=(1,), dtype=float32) PolicyStep(action=<tf.Tensor: shape=(1,), dtype=int64, numpy=array([0])>, state=(), info=())\n",
      "tf.Tensor([False], shape=(1,), dtype=bool) tf.Tensor([1.], shape=(1,), dtype=float32) PolicyStep(action=<tf.Tensor: shape=(1,), dtype=int64, numpy=array([0])>, state=(), info=())\n",
      "tf.Tensor([False], shape=(1,), dtype=bool) tf.Tensor([1.], shape=(1,), dtype=float32) PolicyStep(action=<tf.Tensor: shape=(1,), dtype=int64, numpy=array([1])>, state=(), info=())\n",
      "tf.Tensor([False], shape=(1,), dtype=bool) tf.Tensor([1.], shape=(1,), dtype=float32) PolicyStep(action=<tf.Tensor: shape=(1,), dtype=int64, numpy=array([1])>, state=(), info=())\n",
      "tf.Tensor([False], shape=(1,), dtype=bool) tf.Tensor([1.], shape=(1,), dtype=float32) PolicyStep(action=<tf.Tensor: shape=(1,), dtype=int64, numpy=array([1])>, state=(), info=())\n",
      "tf.Tensor([False], shape=(1,), dtype=bool) tf.Tensor([1.], shape=(1,), dtype=float32) PolicyStep(action=<tf.Tensor: shape=(1,), dtype=int64, numpy=array([1])>, state=(), info=())\n",
      "tf.Tensor([False], shape=(1,), dtype=bool) tf.Tensor([1.], shape=(1,), dtype=float32) PolicyStep(action=<tf.Tensor: shape=(1,), dtype=int64, numpy=array([1])>, state=(), info=())\n",
      "tf.Tensor([ True], shape=(1,), dtype=bool) tf.Tensor([1.], shape=(1,), dtype=float32) PolicyStep(action=<tf.Tensor: shape=(1,), dtype=int64, numpy=array([1])>, state=(), info=())\n",
      "tf.Tensor([False], shape=(1,), dtype=bool) tf.Tensor([0.], shape=(1,), dtype=float32) PolicyStep(action=<tf.Tensor: shape=(1,), dtype=int64, numpy=array([0])>, state=(), info=())\n",
      "tf.Tensor([False], shape=(1,), dtype=bool) tf.Tensor([1.], shape=(1,), dtype=float32) PolicyStep(action=<tf.Tensor: shape=(1,), dtype=int64, numpy=array([0])>, state=(), info=())\n",
      "tf.Tensor([False], shape=(1,), dtype=bool) tf.Tensor([1.], shape=(1,), dtype=float32) PolicyStep(action=<tf.Tensor: shape=(1,), dtype=int64, numpy=array([1])>, state=(), info=())\n",
      "tf.Tensor([False], shape=(1,), dtype=bool) tf.Tensor([1.], shape=(1,), dtype=float32) PolicyStep(action=<tf.Tensor: shape=(1,), dtype=int64, numpy=array([0])>, state=(), info=())\n",
      "tf.Tensor([False], shape=(1,), dtype=bool) tf.Tensor([1.], shape=(1,), dtype=float32) PolicyStep(action=<tf.Tensor: shape=(1,), dtype=int64, numpy=array([0])>, state=(), info=())\n",
      "tf.Tensor([False], shape=(1,), dtype=bool) tf.Tensor([1.], shape=(1,), dtype=float32) PolicyStep(action=<tf.Tensor: shape=(1,), dtype=int64, numpy=array([1])>, state=(), info=())\n",
      "tf.Tensor([False], shape=(1,), dtype=bool) tf.Tensor([1.], shape=(1,), dtype=float32) PolicyStep(action=<tf.Tensor: shape=(1,), dtype=int64, numpy=array([1])>, state=(), info=())\n",
      "tf.Tensor([False], shape=(1,), dtype=bool) tf.Tensor([1.], shape=(1,), dtype=float32) PolicyStep(action=<tf.Tensor: shape=(1,), dtype=int64, numpy=array([1])>, state=(), info=())\n",
      "tf.Tensor([False], shape=(1,), dtype=bool) tf.Tensor([1.], shape=(1,), dtype=float32) PolicyStep(action=<tf.Tensor: shape=(1,), dtype=int64, numpy=array([1])>, state=(), info=())\n",
      "tf.Tensor([False], shape=(1,), dtype=bool) tf.Tensor([1.], shape=(1,), dtype=float32) PolicyStep(action=<tf.Tensor: shape=(1,), dtype=int64, numpy=array([1])>, state=(), info=())\n",
      "tf.Tensor([False], shape=(1,), dtype=bool) tf.Tensor([1.], shape=(1,), dtype=float32) PolicyStep(action=<tf.Tensor: shape=(1,), dtype=int64, numpy=array([1])>, state=(), info=())\n",
      "tf.Tensor([False], shape=(1,), dtype=bool) tf.Tensor([1.], shape=(1,), dtype=float32) PolicyStep(action=<tf.Tensor: shape=(1,), dtype=int64, numpy=array([1])>, state=(), info=())\n",
      "tf.Tensor([False], shape=(1,), dtype=bool) tf.Tensor([1.], shape=(1,), dtype=float32) PolicyStep(action=<tf.Tensor: shape=(1,), dtype=int64, numpy=array([1])>, state=(), info=())\n",
      "tf.Tensor([False], shape=(1,), dtype=bool) tf.Tensor([1.], shape=(1,), dtype=float32) PolicyStep(action=<tf.Tensor: shape=(1,), dtype=int64, numpy=array([1])>, state=(), info=())\n",
      "tf.Tensor([False], shape=(1,), dtype=bool) tf.Tensor([1.], shape=(1,), dtype=float32) PolicyStep(action=<tf.Tensor: shape=(1,), dtype=int64, numpy=array([0])>, state=(), info=())\n",
      "tf.Tensor([False], shape=(1,), dtype=bool) tf.Tensor([1.], shape=(1,), dtype=float32) PolicyStep(action=<tf.Tensor: shape=(1,), dtype=int64, numpy=array([0])>, state=(), info=())\n",
      "tf.Tensor([ True], shape=(1,), dtype=bool) tf.Tensor([1.], shape=(1,), dtype=float32) PolicyStep(action=<tf.Tensor: shape=(1,), dtype=int64, numpy=array([0])>, state=(), info=())\n"
     ]
    }
   ],
   "source": [
    "for _ in range(100):\n",
    "    action = random_policy.action(time_step)\n",
    "    \n",
    "    time_step = example_environment.step(action)\n",
    "    \n",
    "    print(time_step.is_last(), time_step.reward, action)"
   ]
  },
  {
   "cell_type": "markdown",
   "metadata": {},
   "source": [
    "## Metrics and Evaluation"
   ]
  },
  {
   "cell_type": "code",
   "execution_count": 84,
   "metadata": {
    "execution": {
     "iopub.execute_input": "2022-01-06T13:32:32.168221Z",
     "iopub.status.busy": "2022-01-06T13:32:32.167936Z",
     "iopub.status.idle": "2022-01-06T13:32:32.173441Z",
     "shell.execute_reply": "2022-01-06T13:32:32.172385Z",
     "shell.execute_reply.started": "2022-01-06T13:32:32.168195Z"
    }
   },
   "outputs": [],
   "source": [
    "def compute_avg_return(environment, policy, num_episodes=10):\n",
    "    \n",
    "    total_return = 0.0\n",
    "    for _ in range(num_episodes):\n",
    "        \n",
    "        time_step = environment.reset()\n",
    "        episode_return =0.0\n",
    "        \n",
    "        while not time_step.is_last():\n",
    "            action_step = policy.action(time_step)\n",
    "            time_step = environment.step(action_step.action)\n",
    "            episode_return += time_step.reward\n",
    "            \n",
    "        total_return += episode_return\n",
    "        \n",
    "    avg_return = total_return / num_episodes\n",
    "    \n",
    "    return avg_return.numpy()[0]"
   ]
  },
  {
   "cell_type": "code",
   "execution_count": 90,
   "metadata": {
    "execution": {
     "iopub.execute_input": "2022-01-06T13:33:24.402411Z",
     "iopub.status.busy": "2022-01-06T13:33:24.402184Z",
     "iopub.status.idle": "2022-01-06T13:33:26.671762Z",
     "shell.execute_reply": "2022-01-06T13:33:26.671300Z",
     "shell.execute_reply.started": "2022-01-06T13:33:24.402386Z"
    },
    "tags": []
   },
   "outputs": [
    {
     "data": {
      "text/plain": [
       "21.11"
      ]
     },
     "execution_count": 90,
     "metadata": {},
     "output_type": "execute_result"
    }
   ],
   "source": [
    "compute_avg_return(example_environment, random_policy, num_eval_episodes)"
   ]
  },
  {
   "cell_type": "markdown",
   "metadata": {
    "execution": {
     "iopub.execute_input": "2022-01-06T14:04:02.974573Z",
     "iopub.status.busy": "2022-01-06T14:04:02.974351Z",
     "iopub.status.idle": "2022-01-06T14:04:02.979780Z",
     "shell.execute_reply": "2022-01-06T14:04:02.978334Z",
     "shell.execute_reply.started": "2022-01-06T14:04:02.974549Z"
    }
   },
   "source": [
    "## Replay Buffer"
   ]
  },
  {
   "cell_type": "code",
   "execution_count": 111,
   "metadata": {
    "execution": {
     "iopub.execute_input": "2022-01-06T14:31:05.969890Z",
     "iopub.status.busy": "2022-01-06T14:31:05.969672Z",
     "iopub.status.idle": "2022-01-06T14:31:05.985702Z",
     "shell.execute_reply": "2022-01-06T14:31:05.984535Z",
     "shell.execute_reply.started": "2022-01-06T14:31:05.969867Z"
    },
    "tags": []
   },
   "outputs": [
    {
     "ename": "NameError",
     "evalue": "name 'reverb' is not defined",
     "output_type": "error",
     "traceback": [
      "\u001B[0;31m---------------------------------------------------------------------------\u001B[0m",
      "\u001B[0;31mNameError\u001B[0m                                 Traceback (most recent call last)",
      "\u001B[0;32m<ipython-input-111-062f2a9c6aa2>\u001B[0m in \u001B[0;36m<module>\u001B[0;34m\u001B[0m\n\u001B[1;32m      6\u001B[0m     replay_buffer_signature)\n\u001B[1;32m      7\u001B[0m \u001B[0;34m\u001B[0m\u001B[0m\n\u001B[0;32m----> 8\u001B[0;31m table = reverb.Table(\n\u001B[0m\u001B[1;32m      9\u001B[0m     \u001B[0mtable_name\u001B[0m\u001B[0;34m,\u001B[0m\u001B[0;34m\u001B[0m\u001B[0;34m\u001B[0m\u001B[0m\n\u001B[1;32m     10\u001B[0m     \u001B[0mmax_size\u001B[0m\u001B[0;34m=\u001B[0m\u001B[0mreplay_buffer_max_length\u001B[0m\u001B[0;34m,\u001B[0m\u001B[0;34m\u001B[0m\u001B[0;34m\u001B[0m\u001B[0m\n",
      "\u001B[0;31mNameError\u001B[0m: name 'reverb' is not defined"
     ]
    }
   ],
   "source": [
    "table_name = 'uniform_table'\n",
    "\n",
    "replay_buffer_signature = tensor_spec.from_spec(\n",
    "    agent.collect_data_spec)\n",
    "replay_buffer_signature = tensor_spec.add_outer_dim(\n",
    "    replay_buffer_signature)\n",
    "\n",
    "table = reverb.Table(\n",
    "    table_name,\n",
    "    max_size=replay_buffer_max_length,\n",
    "    sampler=reverb.selectors.Uniform(),\n",
    "    remover=reverb.selectors.Fifo(),\n",
    "    rate_limiter=reverb.rate_limiters.MinSize(1),\n",
    "    signature=replay_buffer_signature)\n",
    "\n",
    "reverb_server = reverb.Server([table])\n",
    "\n",
    "replay_buffer = reverb_replay_buffer.ReverbReplayBuffer(\n",
    "    agent.collect_data_spec,\n",
    "    table_name=table_name,\n",
    "    sequence_length=2,\n",
    "    local_server=reverb_server)\n",
    "\n",
    "rb_observer = reverb_utils.ReverbAddTrajectoryObserver(\n",
    "    replay_buffer.py_client,\n",
    "    table_name,\n",
    "    sequence_length=2)"
   ]
  },
  {
   "cell_type": "code",
   "execution_count": null,
   "metadata": {},
   "outputs": [],
   "source": []
  }
 ],
 "metadata": {
  "kernelspec": {
   "display_name": "Python 3",
   "language": "python",
   "name": "python3"
  },
  "language_info": {
   "codemirror_mode": {
    "name": "ipython",
    "version": 3
   },
   "file_extension": ".py",
   "mimetype": "text/x-python",
   "name": "python",
   "nbconvert_exporter": "python",
   "pygments_lexer": "ipython3",
   "version": "3.9.6"
  }
 },
 "nbformat": 4,
 "nbformat_minor": 4
}